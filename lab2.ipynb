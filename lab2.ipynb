{
  "cells": [
    {
      "cell_type": "markdown",
      "metadata": {
        "id": "view-in-github",
        "colab_type": "text"
      },
      "source": [
        "<a href=\"https://colab.research.google.com/github/AndrewAndrawis/cv-labs/blob/main/lab2.ipynb\" target=\"_parent\"><img src=\"https://colab.research.google.com/assets/colab-badge.svg\" alt=\"Open In Colab\"/></a>"
      ]
    },
    {
      "cell_type": "code",
      "execution_count": null,
      "id": "53b46f7b",
      "metadata": {
        "id": "53b46f7b",
        "outputId": "483b8fe3-df97-41e2-ebc4-dd24755060a0"
      },
      "outputs": [
        {
          "name": "stderr",
          "output_type": "stream",
          "text": [
            "C:\\Users\\andre\\AppData\\Local\\Temp/ipykernel_11128/1467023085.py:36: UserWarning: Matplotlib is currently using module://matplotlib_inline.backend_inline, which is a non-GUI backend, so cannot show the figure.\n",
            "  fig2.show()\n"
          ]
        },
        {
          "data": {
            "image/png": "[encoded data removed]",
            "text/plain": [
              "<Figure size 432x288 with 2 Axes>"
            ]
          },
          "metadata": {
            "needs_background": "light"
          },
          "output_type": "display_data"
        }
      ],
      "source": [
        "\n",
        "\n",
        "from matplotlib.image import imread\n",
        "import matplotlib.pyplot as plt\n",
        "import numpy as np\n",
        "\n",
        "image_file = 'C:/Users/andre/Desktop/conda/computer vision/test plot.png'\n",
        "input_image = imread(image_file)  \n",
        "\n",
        "Gx = np.array([[1.0, 0.0, -1.0], [2.0, 0.0, -2.0], [1.0, 0.0, -1.0]])\n",
        "Gy = np.array([[1.0, 2.0, 1.0], [0.0, 0.0, 0.0], [-1.0, -2.0, -1.0]])\n",
        "[rows, columns] = np.shape(grayscale_image)  \n",
        "sobel_filtered_image = np.zeros(shape=(rows, columns))  \n",
        "for i in range(rows - 2):\n",
        "    for j in range(columns - 2):\n",
        "        gx = np.sum(np.multiply(Gx, grayscale_image[i:i + 3, j:j + 3]))  \n",
        "        gy = np.sum(np.multiply(Gy, grayscale_image[i:i + 3, j:j + 3]))  \n",
        "        sobel_filtered_image[i + 1, j + 1] = np.sqrt(gx ** 2 + gy ** 2) \n",
        "\n",
        "fig2 = plt.figure(2)\n",
        "ax1, ax2 = fig2.add_subplot(121), fig2.add_subplot(122)\n",
        "ax1.imshow(input_image)\n",
        "ax2.imshow(sobel_filtered_image, cmap=plt.get_cmap('gray'))\n",
        "fig2.show()\n",
        "\n"
      ]
    },
    {
      "cell_type": "code",
      "execution_count": null,
      "id": "337d67fe",
      "metadata": {
        "id": "337d67fe"
      },
      "outputs": [],
      "source": []
    }
  ],
  "metadata": {
    "kernelspec": {
      "display_name": "Python 3 (ipykernel)",
      "language": "python",
      "name": "python3"
    },
    "language_info": {
      "codemirror_mode": {
        "name": "ipython",
        "version": 3
      },
      "file_extension": ".py",
      "mimetype": "text/x-python",
      "name": "python",
      "nbconvert_exporter": "python",
      "pygments_lexer": "ipython3",
      "version": "3.9.7"
    },
    "colab": {
      "provenance": [],
      "include_colab_link": true
    }
  },
  "nbformat": 4,
  "nbformat_minor": 5
}